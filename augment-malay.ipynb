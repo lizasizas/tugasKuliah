{
 "cells": [
  {
   "cell_type": "code",
   "execution_count": 1,
   "id": "26f5ec6b",
   "metadata": {
    "_cell_guid": "b1076dfc-b9ad-4769-8c92-a6c4dae69d19",
    "_uuid": "8f2839f25d086af736a60e9eeb907d3b93b6e0e5",
    "execution": {
     "iopub.execute_input": "2024-09-21T13:19:03.743273Z",
     "iopub.status.busy": "2024-09-21T13:19:03.742877Z",
     "iopub.status.idle": "2024-09-21T13:19:04.379248Z",
     "shell.execute_reply": "2024-09-21T13:19:04.378304Z"
    },
    "papermill": {
     "duration": 0.646085,
     "end_time": "2024-09-21T13:19:04.381483",
     "exception": false,
     "start_time": "2024-09-21T13:19:03.735398",
     "status": "completed"
    },
    "tags": []
   },
   "outputs": [
    {
     "name": "stdout",
     "output_type": "stream",
     "text": [
      "/kaggle/input/fake-news-malay/augment_en.csv\n"
     ]
    }
   ],
   "source": [
    "# This Python 3 environment comes with many helpful analytics libraries installed\n",
    "# It is defined by the kaggle/python Docker image: https://github.com/kaggle/docker-python\n",
    "# For example, here's several helpful packages to load\n",
    "\n",
    "import numpy as np # linear algebra\n",
    "import pandas as pd # data processing, CSV file I/O (e.g. pd.read_csv)\n",
    "\n",
    "# Input data files are available in the read-only \"../input/\" directory\n",
    "# For example, running this (by clicking run or pressing Shift+Enter) will list all files under the input directory\n",
    "\n",
    "import os\n",
    "for dirname, _, filenames in os.walk('/kaggle/input'):\n",
    "    for filename in filenames:\n",
    "        print(os.path.join(dirname, filename))\n",
    "\n",
    "# You can write up to 20GB to the current directory (/kaggle/working/) that gets preserved as output when you create a version using \"Save & Run All\" \n",
    "# You can also write temporary files to /kaggle/temp/, but they won't be saved outside of the current session"
   ]
  },
  {
   "cell_type": "code",
   "execution_count": 2,
   "id": "dccd18c8",
   "metadata": {
    "execution": {
     "iopub.execute_input": "2024-09-21T13:19:04.394615Z",
     "iopub.status.busy": "2024-09-21T13:19:04.393728Z",
     "iopub.status.idle": "2024-09-21T13:19:18.613012Z",
     "shell.execute_reply": "2024-09-21T13:19:18.611888Z"
    },
    "papermill": {
     "duration": 14.228115,
     "end_time": "2024-09-21T13:19:18.615519",
     "exception": false,
     "start_time": "2024-09-21T13:19:04.387404",
     "status": "completed"
    },
    "tags": []
   },
   "outputs": [
    {
     "name": "stdout",
     "output_type": "stream",
     "text": [
      "Collecting deep-translator\r\n",
      "  Downloading deep_translator-1.11.4-py3-none-any.whl.metadata (30 kB)\r\n",
      "Requirement already satisfied: beautifulsoup4<5.0.0,>=4.9.1 in /opt/conda/lib/python3.10/site-packages (from deep-translator) (4.12.3)\r\n",
      "Requirement already satisfied: requests<3.0.0,>=2.23.0 in /opt/conda/lib/python3.10/site-packages (from deep-translator) (2.32.3)\r\n",
      "Requirement already satisfied: soupsieve>1.2 in /opt/conda/lib/python3.10/site-packages (from beautifulsoup4<5.0.0,>=4.9.1->deep-translator) (2.5)\r\n",
      "Requirement already satisfied: charset-normalizer<4,>=2 in /opt/conda/lib/python3.10/site-packages (from requests<3.0.0,>=2.23.0->deep-translator) (3.3.2)\r\n",
      "Requirement already satisfied: idna<4,>=2.5 in /opt/conda/lib/python3.10/site-packages (from requests<3.0.0,>=2.23.0->deep-translator) (3.7)\r\n",
      "Requirement already satisfied: urllib3<3,>=1.21.1 in /opt/conda/lib/python3.10/site-packages (from requests<3.0.0,>=2.23.0->deep-translator) (1.26.18)\r\n",
      "Requirement already satisfied: certifi>=2017.4.17 in /opt/conda/lib/python3.10/site-packages (from requests<3.0.0,>=2.23.0->deep-translator) (2024.7.4)\r\n",
      "Downloading deep_translator-1.11.4-py3-none-any.whl (42 kB)\r\n",
      "\u001b[2K   \u001b[90m━━━━━━━━━━━━━━━━━━━━━━━━━━━━━━━━━━━━━━━━\u001b[0m \u001b[32m42.3/42.3 kB\u001b[0m \u001b[31m1.9 MB/s\u001b[0m eta \u001b[36m0:00:00\u001b[0m\r\n",
      "\u001b[?25hInstalling collected packages: deep-translator\r\n",
      "Successfully installed deep-translator-1.11.4\r\n"
     ]
    }
   ],
   "source": [
    "!pip install deep-translator"
   ]
  },
  {
   "cell_type": "code",
   "execution_count": 3,
   "id": "8055bd46",
   "metadata": {
    "execution": {
     "iopub.execute_input": "2024-09-21T13:19:18.630881Z",
     "iopub.status.busy": "2024-09-21T13:19:18.630504Z",
     "iopub.status.idle": "2024-09-21T13:19:18.635344Z",
     "shell.execute_reply": "2024-09-21T13:19:18.634435Z"
    },
    "papermill": {
     "duration": 0.015122,
     "end_time": "2024-09-21T13:19:18.637471",
     "exception": false,
     "start_time": "2024-09-21T13:19:18.622349",
     "status": "completed"
    },
    "tags": []
   },
   "outputs": [],
   "source": [
    "import pandas as pd\n",
    "import numpy as np\n",
    "import time"
   ]
  },
  {
   "cell_type": "code",
   "execution_count": 4,
   "id": "dd7ef89b",
   "metadata": {
    "execution": {
     "iopub.execute_input": "2024-09-21T13:19:18.651537Z",
     "iopub.status.busy": "2024-09-21T13:19:18.651239Z",
     "iopub.status.idle": "2024-09-21T13:19:18.655380Z",
     "shell.execute_reply": "2024-09-21T13:19:18.654425Z"
    },
    "papermill": {
     "duration": 0.013378,
     "end_time": "2024-09-21T13:19:18.657380",
     "exception": false,
     "start_time": "2024-09-21T13:19:18.644002",
     "status": "completed"
    },
    "tags": []
   },
   "outputs": [],
   "source": [
    "import warnings\n",
    "\n",
    "# Mengabaikan semua peringatan\n",
    "warnings.filterwarnings(\"ignore\")"
   ]
  },
  {
   "cell_type": "code",
   "execution_count": 5,
   "id": "0df1e73d",
   "metadata": {
    "execution": {
     "iopub.execute_input": "2024-09-21T13:19:18.671198Z",
     "iopub.status.busy": "2024-09-21T13:19:18.670877Z",
     "iopub.status.idle": "2024-09-21T13:19:18.946172Z",
     "shell.execute_reply": "2024-09-21T13:19:18.945416Z"
    },
    "papermill": {
     "duration": 0.284724,
     "end_time": "2024-09-21T13:19:18.948463",
     "exception": false,
     "start_time": "2024-09-21T13:19:18.663739",
     "status": "completed"
    },
    "tags": []
   },
   "outputs": [],
   "source": [
    "#from googletrans import Translator\n",
    "from deep_translator import GoogleTranslator"
   ]
  },
  {
   "cell_type": "code",
   "execution_count": 6,
   "id": "bb378fda",
   "metadata": {
    "execution": {
     "iopub.execute_input": "2024-09-21T13:19:18.962171Z",
     "iopub.status.busy": "2024-09-21T13:19:18.961700Z",
     "iopub.status.idle": "2024-09-21T13:19:18.965908Z",
     "shell.execute_reply": "2024-09-21T13:19:18.965029Z"
    },
    "papermill": {
     "duration": 0.012892,
     "end_time": "2024-09-21T13:19:18.967731",
     "exception": false,
     "start_time": "2024-09-21T13:19:18.954839",
     "status": "completed"
    },
    "tags": []
   },
   "outputs": [],
   "source": [
    "path = '/kaggle/input/fake-news-malay/augment_en.csv'"
   ]
  },
  {
   "cell_type": "code",
   "execution_count": 7,
   "id": "affaa867",
   "metadata": {
    "execution": {
     "iopub.execute_input": "2024-09-21T13:19:18.980906Z",
     "iopub.status.busy": "2024-09-21T13:19:18.980623Z",
     "iopub.status.idle": "2024-09-21T13:19:20.397200Z",
     "shell.execute_reply": "2024-09-21T13:19:20.396309Z"
    },
    "papermill": {
     "duration": 1.425616,
     "end_time": "2024-09-21T13:19:20.399463",
     "exception": false,
     "start_time": "2024-09-21T13:19:18.973847",
     "status": "completed"
    },
    "tags": []
   },
   "outputs": [],
   "source": [
    "df = pd.read_csv(path)"
   ]
  },
  {
   "cell_type": "code",
   "execution_count": 8,
   "id": "8af516e2",
   "metadata": {
    "execution": {
     "iopub.execute_input": "2024-09-21T13:19:20.413322Z",
     "iopub.status.busy": "2024-09-21T13:19:20.412760Z",
     "iopub.status.idle": "2024-09-21T13:19:20.434753Z",
     "shell.execute_reply": "2024-09-21T13:19:20.433869Z"
    },
    "papermill": {
     "duration": 0.030905,
     "end_time": "2024-09-21T13:19:20.436790",
     "exception": false,
     "start_time": "2024-09-21T13:19:20.405885",
     "status": "completed"
    },
    "tags": []
   },
   "outputs": [
    {
     "data": {
      "text/html": [
       "<div>\n",
       "<style scoped>\n",
       "    .dataframe tbody tr th:only-of-type {\n",
       "        vertical-align: middle;\n",
       "    }\n",
       "\n",
       "    .dataframe tbody tr th {\n",
       "        vertical-align: top;\n",
       "    }\n",
       "\n",
       "    .dataframe thead th {\n",
       "        text-align: right;\n",
       "    }\n",
       "</style>\n",
       "<table border=\"1\" class=\"dataframe\">\n",
       "  <thead>\n",
       "    <tr style=\"text-align: right;\">\n",
       "      <th></th>\n",
       "      <th>text</th>\n",
       "      <th>labels</th>\n",
       "      <th>word_count</th>\n",
       "      <th>translate_en</th>\n",
       "    </tr>\n",
       "  </thead>\n",
       "  <tbody>\n",
       "    <tr>\n",
       "      <th>0</th>\n",
       "      <td>demi lovato telah jujur kejam tentang pertempu...</td>\n",
       "      <td>0</td>\n",
       "      <td>463</td>\n",
       "      <td>demi lovato has been brutally honest about her...</td>\n",
       "    </tr>\n",
       "    <tr>\n",
       "      <th>1</th>\n",
       "      <td>tahniah untuk bintang glee lea michele pelakon...</td>\n",
       "      <td>0</td>\n",
       "      <td>244</td>\n",
       "      <td>congratulations to Glee star Lea Michele The a...</td>\n",
       "    </tr>\n",
       "    <tr>\n",
       "      <th>2</th>\n",
       "      <td>0 komentariev 0 foto foto ap di mana sahaja an...</td>\n",
       "      <td>1</td>\n",
       "      <td>448</td>\n",
       "      <td>0 komentariev 0 photo photo ap wherever you ar...</td>\n",
       "    </tr>\n",
       "    <tr>\n",
       "      <th>3</th>\n",
       "      <td>meghan markle semakin meningkat di pangkat bri...</td>\n",
       "      <td>0</td>\n",
       "      <td>40</td>\n",
       "      <td>meghan markle is rising in the british ranks ,...</td>\n",
       "    </tr>\n",
       "    <tr>\n",
       "      <th>4</th>\n",
       "      <td>sejak beberapa bulan yang lalu , hubungan anta...</td>\n",
       "      <td>1</td>\n",
       "      <td>343</td>\n",
       "      <td>Over the past few months, relations between th...</td>\n",
       "    </tr>\n",
       "    <tr>\n",
       "      <th>...</th>\n",
       "      <td>...</td>\n",
       "      <td>...</td>\n",
       "      <td>...</td>\n",
       "      <td>...</td>\n",
       "    </tr>\n",
       "    <tr>\n",
       "      <th>21610</th>\n",
       "      <td>tidak ada kekurangan karya seni yang menggamba...</td>\n",
       "      <td>1</td>\n",
       "      <td>34</td>\n",
       "      <td>there is no shortage of artwork that depicts t...</td>\n",
       "    </tr>\n",
       "    <tr>\n",
       "      <th>21611</th>\n",
       "      <td>joanna krupa mungkin telah memuktamadkan perce...</td>\n",
       "      <td>0</td>\n",
       "      <td>277</td>\n",
       "      <td>joanna krupa may have finalized her divorce fr...</td>\n",
       "    </tr>\n",
       "    <tr>\n",
       "      <th>21612</th>\n",
       "      <td>katie holmes tidak mengandung anak jamie foxx ...</td>\n",
       "      <td>1</td>\n",
       "      <td>345</td>\n",
       "      <td>katie holmes is not pregnant with jamie foxx's...</td>\n",
       "    </tr>\n",
       "    <tr>\n",
       "      <th>21613</th>\n",
       "      <td>donald trump menegaskan bahawa serangan siber ...</td>\n",
       "      <td>0</td>\n",
       "      <td>265</td>\n",
       "      <td>donald trump insists that cyber attacks have h...</td>\n",
       "    </tr>\n",
       "    <tr>\n",
       "      <th>21614</th>\n",
       "      <td>presiden donald trump mengumumkan bahawa dia t...</td>\n",
       "      <td>0</td>\n",
       "      <td>107</td>\n",
       "      <td>president donald trump announced that he has m...</td>\n",
       "    </tr>\n",
       "  </tbody>\n",
       "</table>\n",
       "<p>21615 rows × 4 columns</p>\n",
       "</div>"
      ],
      "text/plain": [
       "                                                    text  labels  word_count  \\\n",
       "0      demi lovato telah jujur kejam tentang pertempu...       0         463   \n",
       "1      tahniah untuk bintang glee lea michele pelakon...       0         244   \n",
       "2      0 komentariev 0 foto foto ap di mana sahaja an...       1         448   \n",
       "3      meghan markle semakin meningkat di pangkat bri...       0          40   \n",
       "4      sejak beberapa bulan yang lalu , hubungan anta...       1         343   \n",
       "...                                                  ...     ...         ...   \n",
       "21610  tidak ada kekurangan karya seni yang menggamba...       1          34   \n",
       "21611  joanna krupa mungkin telah memuktamadkan perce...       0         277   \n",
       "21612  katie holmes tidak mengandung anak jamie foxx ...       1         345   \n",
       "21613  donald trump menegaskan bahawa serangan siber ...       0         265   \n",
       "21614  presiden donald trump mengumumkan bahawa dia t...       0         107   \n",
       "\n",
       "                                            translate_en  \n",
       "0      demi lovato has been brutally honest about her...  \n",
       "1      congratulations to Glee star Lea Michele The a...  \n",
       "2      0 komentariev 0 photo photo ap wherever you ar...  \n",
       "3      meghan markle is rising in the british ranks ,...  \n",
       "4      Over the past few months, relations between th...  \n",
       "...                                                  ...  \n",
       "21610  there is no shortage of artwork that depicts t...  \n",
       "21611  joanna krupa may have finalized her divorce fr...  \n",
       "21612  katie holmes is not pregnant with jamie foxx's...  \n",
       "21613  donald trump insists that cyber attacks have h...  \n",
       "21614  president donald trump announced that he has m...  \n",
       "\n",
       "[21615 rows x 4 columns]"
      ]
     },
     "execution_count": 8,
     "metadata": {},
     "output_type": "execute_result"
    }
   ],
   "source": [
    "df"
   ]
  },
  {
   "cell_type": "code",
   "execution_count": 9,
   "id": "373baaf4",
   "metadata": {
    "execution": {
     "iopub.execute_input": "2024-09-21T13:19:20.450966Z",
     "iopub.status.busy": "2024-09-21T13:19:20.450670Z",
     "iopub.status.idle": "2024-09-21T13:19:20.454588Z",
     "shell.execute_reply": "2024-09-21T13:19:20.453713Z"
    },
    "papermill": {
     "duration": 0.013429,
     "end_time": "2024-09-21T13:19:20.456666",
     "exception": false,
     "start_time": "2024-09-21T13:19:20.443237",
     "status": "completed"
    },
    "tags": []
   },
   "outputs": [],
   "source": [
    "# Inisialisasi objek Translator\n",
    "translator = GoogleTranslator()"
   ]
  },
  {
   "cell_type": "code",
   "execution_count": 10,
   "id": "79f3efc8",
   "metadata": {
    "execution": {
     "iopub.execute_input": "2024-09-21T13:19:20.470702Z",
     "iopub.status.busy": "2024-09-21T13:19:20.470425Z",
     "iopub.status.idle": "2024-09-21T13:19:20.475892Z",
     "shell.execute_reply": "2024-09-21T13:19:20.475025Z"
    },
    "papermill": {
     "duration": 0.014965,
     "end_time": "2024-09-21T13:19:20.477881",
     "exception": false,
     "start_time": "2024-09-21T13:19:20.462916",
     "status": "completed"
    },
    "tags": []
   },
   "outputs": [],
   "source": [
    "def translate_text(text, src='en', dest='ms', retries=3, delay=2):\n",
    "    for _ in range(retries):\n",
    "        try:\n",
    "            # Gunakan GoogleTranslator untuk menerjemahkan teks\n",
    "            translated = GoogleTranslator(source=src, target=dest).translate(text)\n",
    "            return translated\n",
    "        except Exception as e:\n",
    "            print(f\"Error: {e}. Retrying in {delay} seconds...\")\n",
    "            time.sleep(delay)\n",
    "    # Jika semua percobaan gagal, kembalikan teks asli atau nilai default\n",
    "    return None"
   ]
  },
  {
   "cell_type": "code",
   "execution_count": 11,
   "id": "4793ac97",
   "metadata": {
    "execution": {
     "iopub.execute_input": "2024-09-21T13:19:20.491969Z",
     "iopub.status.busy": "2024-09-21T13:19:20.491695Z",
     "iopub.status.idle": "2024-09-21T13:19:20.581569Z",
     "shell.execute_reply": "2024-09-21T13:19:20.580719Z"
    },
    "papermill": {
     "duration": 0.099135,
     "end_time": "2024-09-21T13:19:20.583501",
     "exception": false,
     "start_time": "2024-09-21T13:19:20.484366",
     "status": "completed"
    },
    "tags": []
   },
   "outputs": [
    {
     "name": "stdout",
     "output_type": "stream",
     "text": [
      "selamat pagi\n"
     ]
    }
   ],
   "source": [
    "test = \"good morning\"\n",
    "if test:\n",
    "    translation = translate_text(test)\n",
    "    print(translation)\n",
    "else:\n",
    "    print(\"No text to translate\")"
   ]
  },
  {
   "cell_type": "code",
   "execution_count": 12,
   "id": "2e52cc0f",
   "metadata": {
    "execution": {
     "iopub.execute_input": "2024-09-21T13:19:20.597586Z",
     "iopub.status.busy": "2024-09-21T13:19:20.597317Z",
     "iopub.status.idle": "2024-09-21T13:19:20.600817Z",
     "shell.execute_reply": "2024-09-21T13:19:20.600012Z"
    },
    "papermill": {
     "duration": 0.012811,
     "end_time": "2024-09-21T13:19:20.602751",
     "exception": false,
     "start_time": "2024-09-21T13:19:20.589940",
     "status": "completed"
    },
    "tags": []
   },
   "outputs": [],
   "source": [
    "# split = 10\n",
    "# df = df.iloc[:split]"
   ]
  },
  {
   "cell_type": "code",
   "execution_count": 13,
   "id": "0fa9d42f",
   "metadata": {
    "execution": {
     "iopub.execute_input": "2024-09-21T13:19:20.618399Z",
     "iopub.status.busy": "2024-09-21T13:19:20.617808Z",
     "iopub.status.idle": "2024-09-21T13:19:20.630680Z",
     "shell.execute_reply": "2024-09-21T13:19:20.629722Z"
    },
    "papermill": {
     "duration": 0.021815,
     "end_time": "2024-09-21T13:19:20.632448",
     "exception": false,
     "start_time": "2024-09-21T13:19:20.610633",
     "status": "completed"
    },
    "tags": []
   },
   "outputs": [
    {
     "data": {
      "text/html": [
       "<div>\n",
       "<style scoped>\n",
       "    .dataframe tbody tr th:only-of-type {\n",
       "        vertical-align: middle;\n",
       "    }\n",
       "\n",
       "    .dataframe tbody tr th {\n",
       "        vertical-align: top;\n",
       "    }\n",
       "\n",
       "    .dataframe thead th {\n",
       "        text-align: right;\n",
       "    }\n",
       "</style>\n",
       "<table border=\"1\" class=\"dataframe\">\n",
       "  <thead>\n",
       "    <tr style=\"text-align: right;\">\n",
       "      <th></th>\n",
       "      <th>text</th>\n",
       "      <th>labels</th>\n",
       "      <th>word_count</th>\n",
       "      <th>translate_en</th>\n",
       "    </tr>\n",
       "  </thead>\n",
       "  <tbody>\n",
       "    <tr>\n",
       "      <th>2</th>\n",
       "      <td>0 komentariev 0 foto foto ap di mana sahaja an...</td>\n",
       "      <td>1</td>\n",
       "      <td>448</td>\n",
       "      <td>0 komentariev 0 photo photo ap wherever you ar...</td>\n",
       "    </tr>\n",
       "    <tr>\n",
       "      <th>4</th>\n",
       "      <td>sejak beberapa bulan yang lalu , hubungan anta...</td>\n",
       "      <td>1</td>\n",
       "      <td>343</td>\n",
       "      <td>Over the past few months, relations between th...</td>\n",
       "    </tr>\n",
       "    <tr>\n",
       "      <th>5</th>\n",
       "      <td>kami menceritakan semua orang bercakap mengena...</td>\n",
       "      <td>1</td>\n",
       "      <td>266</td>\n",
       "      <td>we tell everyone talking about the star magazi...</td>\n",
       "    </tr>\n",
       "    <tr>\n",
       "      <th>6</th>\n",
       "      <td>oleh peter van els , orang orang leluhur kadan...</td>\n",
       "      <td>1</td>\n",
       "      <td>46</td>\n",
       "      <td>by peter van els, the ancestors sometimes wond...</td>\n",
       "    </tr>\n",
       "    <tr>\n",
       "      <th>8</th>\n",
       "      <td>pemanggil harian 330 , 000 tentera russia meng...</td>\n",
       "      <td>1</td>\n",
       "      <td>288</td>\n",
       "      <td>daily caller 330 , 000 Russian troops gathered...</td>\n",
       "    </tr>\n",
       "    <tr>\n",
       "      <th>...</th>\n",
       "      <td>...</td>\n",
       "      <td>...</td>\n",
       "      <td>...</td>\n",
       "      <td>...</td>\n",
       "    </tr>\n",
       "    <tr>\n",
       "      <th>21603</th>\n",
       "      <td>video justin bieber memandu ke rumah selena go...</td>\n",
       "      <td>1</td>\n",
       "      <td>33</td>\n",
       "      <td>video of justin bieber driving to selena gomez...</td>\n",
       "    </tr>\n",
       "    <tr>\n",
       "      <th>21606</th>\n",
       "      <td>wawancara paul martin stesen radio colorado da...</td>\n",
       "      <td>1</td>\n",
       "      <td>74</td>\n",
       "      <td>paul martin interview colorado radio station d...</td>\n",
       "    </tr>\n",
       "    <tr>\n",
       "      <th>21607</th>\n",
       "      <td>0 menambah komentar seorang taoiseach enda ken...</td>\n",
       "      <td>1</td>\n",
       "      <td>459</td>\n",
       "      <td>0 added comments from taoiseach enda kenny yes...</td>\n",
       "    </tr>\n",
       "    <tr>\n",
       "      <th>21610</th>\n",
       "      <td>tidak ada kekurangan karya seni yang menggamba...</td>\n",
       "      <td>1</td>\n",
       "      <td>34</td>\n",
       "      <td>there is no shortage of artwork that depicts t...</td>\n",
       "    </tr>\n",
       "    <tr>\n",
       "      <th>21612</th>\n",
       "      <td>katie holmes tidak mengandung anak jamie foxx ...</td>\n",
       "      <td>1</td>\n",
       "      <td>345</td>\n",
       "      <td>katie holmes is not pregnant with jamie foxx's...</td>\n",
       "    </tr>\n",
       "  </tbody>\n",
       "</table>\n",
       "<p>7887 rows × 4 columns</p>\n",
       "</div>"
      ],
      "text/plain": [
       "                                                    text  labels  word_count  \\\n",
       "2      0 komentariev 0 foto foto ap di mana sahaja an...       1         448   \n",
       "4      sejak beberapa bulan yang lalu , hubungan anta...       1         343   \n",
       "5      kami menceritakan semua orang bercakap mengena...       1         266   \n",
       "6      oleh peter van els , orang orang leluhur kadan...       1          46   \n",
       "8      pemanggil harian 330 , 000 tentera russia meng...       1         288   \n",
       "...                                                  ...     ...         ...   \n",
       "21603  video justin bieber memandu ke rumah selena go...       1          33   \n",
       "21606  wawancara paul martin stesen radio colorado da...       1          74   \n",
       "21607  0 menambah komentar seorang taoiseach enda ken...       1         459   \n",
       "21610  tidak ada kekurangan karya seni yang menggamba...       1          34   \n",
       "21612  katie holmes tidak mengandung anak jamie foxx ...       1         345   \n",
       "\n",
       "                                            translate_en  \n",
       "2      0 komentariev 0 photo photo ap wherever you ar...  \n",
       "4      Over the past few months, relations between th...  \n",
       "5      we tell everyone talking about the star magazi...  \n",
       "6      by peter van els, the ancestors sometimes wond...  \n",
       "8      daily caller 330 , 000 Russian troops gathered...  \n",
       "...                                                  ...  \n",
       "21603  video of justin bieber driving to selena gomez...  \n",
       "21606  paul martin interview colorado radio station d...  \n",
       "21607  0 added comments from taoiseach enda kenny yes...  \n",
       "21610  there is no shortage of artwork that depicts t...  \n",
       "21612  katie holmes is not pregnant with jamie foxx's...  \n",
       "\n",
       "[7887 rows x 4 columns]"
      ]
     },
     "execution_count": 13,
     "metadata": {},
     "output_type": "execute_result"
    }
   ],
   "source": [
    "df = df[df['labels'] == 1]\n",
    "df"
   ]
  },
  {
   "cell_type": "code",
   "execution_count": 14,
   "id": "a98d67a5",
   "metadata": {
    "execution": {
     "iopub.execute_input": "2024-09-21T13:19:20.647164Z",
     "iopub.status.busy": "2024-09-21T13:19:20.646472Z",
     "iopub.status.idle": "2024-09-21T15:48:59.304461Z",
     "shell.execute_reply": "2024-09-21T15:48:59.303455Z"
    },
    "papermill": {
     "duration": 8978.668594,
     "end_time": "2024-09-21T15:48:59.307668",
     "exception": false,
     "start_time": "2024-09-21T13:19:20.639074",
     "status": "completed"
    },
    "tags": []
   },
   "outputs": [],
   "source": [
    "df.loc[:, 'translate_malay'] = df['translate_en'].apply(translate_text)"
   ]
  },
  {
   "cell_type": "code",
   "execution_count": 15,
   "id": "afb6b19b",
   "metadata": {
    "execution": {
     "iopub.execute_input": "2024-09-21T15:48:59.327097Z",
     "iopub.status.busy": "2024-09-21T15:48:59.326676Z",
     "iopub.status.idle": "2024-09-21T15:48:59.343142Z",
     "shell.execute_reply": "2024-09-21T15:48:59.342220Z"
    },
    "papermill": {
     "duration": 0.02936,
     "end_time": "2024-09-21T15:48:59.345426",
     "exception": false,
     "start_time": "2024-09-21T15:48:59.316066",
     "status": "completed"
    },
    "tags": []
   },
   "outputs": [
    {
     "data": {
      "text/html": [
       "<div>\n",
       "<style scoped>\n",
       "    .dataframe tbody tr th:only-of-type {\n",
       "        vertical-align: middle;\n",
       "    }\n",
       "\n",
       "    .dataframe tbody tr th {\n",
       "        vertical-align: top;\n",
       "    }\n",
       "\n",
       "    .dataframe thead th {\n",
       "        text-align: right;\n",
       "    }\n",
       "</style>\n",
       "<table border=\"1\" class=\"dataframe\">\n",
       "  <thead>\n",
       "    <tr style=\"text-align: right;\">\n",
       "      <th></th>\n",
       "      <th>text</th>\n",
       "      <th>labels</th>\n",
       "      <th>word_count</th>\n",
       "      <th>translate_en</th>\n",
       "      <th>translate_malay</th>\n",
       "    </tr>\n",
       "  </thead>\n",
       "  <tbody>\n",
       "    <tr>\n",
       "      <th>2</th>\n",
       "      <td>0 komentariev 0 foto foto ap di mana sahaja an...</td>\n",
       "      <td>1</td>\n",
       "      <td>448</td>\n",
       "      <td>0 komentariev 0 photo photo ap wherever you ar...</td>\n",
       "      <td>0 komentariev 0 foto foto ap di mana sahaja an...</td>\n",
       "    </tr>\n",
       "    <tr>\n",
       "      <th>4</th>\n",
       "      <td>sejak beberapa bulan yang lalu , hubungan anta...</td>\n",
       "      <td>1</td>\n",
       "      <td>343</td>\n",
       "      <td>Over the past few months, relations between th...</td>\n",
       "      <td>Sejak beberapa bulan lalu, hubungan antara Ame...</td>\n",
       "    </tr>\n",
       "    <tr>\n",
       "      <th>5</th>\n",
       "      <td>kami menceritakan semua orang bercakap mengena...</td>\n",
       "      <td>1</td>\n",
       "      <td>266</td>\n",
       "      <td>we tell everyone talking about the star magazi...</td>\n",
       "      <td>kami memberitahu semua orang bercakap tentang ...</td>\n",
       "    </tr>\n",
       "    <tr>\n",
       "      <th>6</th>\n",
       "      <td>oleh peter van els , orang orang leluhur kadan...</td>\n",
       "      <td>1</td>\n",
       "      <td>46</td>\n",
       "      <td>by peter van els, the ancestors sometimes wond...</td>\n",
       "      <td>oleh peter van els, nenek moyang kadang-kadang...</td>\n",
       "    </tr>\n",
       "    <tr>\n",
       "      <th>8</th>\n",
       "      <td>pemanggil harian 330 , 000 tentera russia meng...</td>\n",
       "      <td>1</td>\n",
       "      <td>288</td>\n",
       "      <td>daily caller 330 , 000 Russian troops gathered...</td>\n",
       "      <td>pemanggil harian 330, 000 tentera Rusia berkum...</td>\n",
       "    </tr>\n",
       "    <tr>\n",
       "      <th>...</th>\n",
       "      <td>...</td>\n",
       "      <td>...</td>\n",
       "      <td>...</td>\n",
       "      <td>...</td>\n",
       "      <td>...</td>\n",
       "    </tr>\n",
       "    <tr>\n",
       "      <th>21603</th>\n",
       "      <td>video justin bieber memandu ke rumah selena go...</td>\n",
       "      <td>1</td>\n",
       "      <td>33</td>\n",
       "      <td>video of justin bieber driving to selena gomez...</td>\n",
       "      <td>video justin bieber memandu ke rumah selena go...</td>\n",
       "    </tr>\n",
       "    <tr>\n",
       "      <th>21606</th>\n",
       "      <td>wawancara paul martin stesen radio colorado da...</td>\n",
       "      <td>1</td>\n",
       "      <td>74</td>\n",
       "      <td>paul martin interview colorado radio station d...</td>\n",
       "      <td>paul martin menemu bual stesen radio colorado ...</td>\n",
       "    </tr>\n",
       "    <tr>\n",
       "      <th>21607</th>\n",
       "      <td>0 menambah komentar seorang taoiseach enda ken...</td>\n",
       "      <td>1</td>\n",
       "      <td>459</td>\n",
       "      <td>0 added comments from taoiseach enda kenny yes...</td>\n",
       "      <td>0 menambah komen daripada taoiseach enda kenny...</td>\n",
       "    </tr>\n",
       "    <tr>\n",
       "      <th>21610</th>\n",
       "      <td>tidak ada kekurangan karya seni yang menggamba...</td>\n",
       "      <td>1</td>\n",
       "      <td>34</td>\n",
       "      <td>there is no shortage of artwork that depicts t...</td>\n",
       "      <td>tidak ada kekurangan karya seni yang menggamba...</td>\n",
       "    </tr>\n",
       "    <tr>\n",
       "      <th>21612</th>\n",
       "      <td>katie holmes tidak mengandung anak jamie foxx ...</td>\n",
       "      <td>1</td>\n",
       "      <td>345</td>\n",
       "      <td>katie holmes is not pregnant with jamie foxx's...</td>\n",
       "      <td>katie holmes tidak hamil dengan khabar angin a...</td>\n",
       "    </tr>\n",
       "  </tbody>\n",
       "</table>\n",
       "<p>7887 rows × 5 columns</p>\n",
       "</div>"
      ],
      "text/plain": [
       "                                                    text  labels  word_count  \\\n",
       "2      0 komentariev 0 foto foto ap di mana sahaja an...       1         448   \n",
       "4      sejak beberapa bulan yang lalu , hubungan anta...       1         343   \n",
       "5      kami menceritakan semua orang bercakap mengena...       1         266   \n",
       "6      oleh peter van els , orang orang leluhur kadan...       1          46   \n",
       "8      pemanggil harian 330 , 000 tentera russia meng...       1         288   \n",
       "...                                                  ...     ...         ...   \n",
       "21603  video justin bieber memandu ke rumah selena go...       1          33   \n",
       "21606  wawancara paul martin stesen radio colorado da...       1          74   \n",
       "21607  0 menambah komentar seorang taoiseach enda ken...       1         459   \n",
       "21610  tidak ada kekurangan karya seni yang menggamba...       1          34   \n",
       "21612  katie holmes tidak mengandung anak jamie foxx ...       1         345   \n",
       "\n",
       "                                            translate_en  \\\n",
       "2      0 komentariev 0 photo photo ap wherever you ar...   \n",
       "4      Over the past few months, relations between th...   \n",
       "5      we tell everyone talking about the star magazi...   \n",
       "6      by peter van els, the ancestors sometimes wond...   \n",
       "8      daily caller 330 , 000 Russian troops gathered...   \n",
       "...                                                  ...   \n",
       "21603  video of justin bieber driving to selena gomez...   \n",
       "21606  paul martin interview colorado radio station d...   \n",
       "21607  0 added comments from taoiseach enda kenny yes...   \n",
       "21610  there is no shortage of artwork that depicts t...   \n",
       "21612  katie holmes is not pregnant with jamie foxx's...   \n",
       "\n",
       "                                         translate_malay  \n",
       "2      0 komentariev 0 foto foto ap di mana sahaja an...  \n",
       "4      Sejak beberapa bulan lalu, hubungan antara Ame...  \n",
       "5      kami memberitahu semua orang bercakap tentang ...  \n",
       "6      oleh peter van els, nenek moyang kadang-kadang...  \n",
       "8      pemanggil harian 330, 000 tentera Rusia berkum...  \n",
       "...                                                  ...  \n",
       "21603  video justin bieber memandu ke rumah selena go...  \n",
       "21606  paul martin menemu bual stesen radio colorado ...  \n",
       "21607  0 menambah komen daripada taoiseach enda kenny...  \n",
       "21610  tidak ada kekurangan karya seni yang menggamba...  \n",
       "21612  katie holmes tidak hamil dengan khabar angin a...  \n",
       "\n",
       "[7887 rows x 5 columns]"
      ]
     },
     "execution_count": 15,
     "metadata": {},
     "output_type": "execute_result"
    }
   ],
   "source": [
    "df"
   ]
  },
  {
   "cell_type": "code",
   "execution_count": 16,
   "id": "e011d836",
   "metadata": {
    "execution": {
     "iopub.execute_input": "2024-09-21T15:48:59.361023Z",
     "iopub.status.busy": "2024-09-21T15:48:59.360709Z",
     "iopub.status.idle": "2024-09-21T15:48:59.367689Z",
     "shell.execute_reply": "2024-09-21T15:48:59.366824Z"
    },
    "papermill": {
     "duration": 0.016789,
     "end_time": "2024-09-21T15:48:59.369754",
     "exception": false,
     "start_time": "2024-09-21T15:48:59.352965",
     "status": "completed"
    },
    "tags": []
   },
   "outputs": [],
   "source": [
    "df = df[['translate_malay', 'labels']]"
   ]
  },
  {
   "cell_type": "code",
   "execution_count": 17,
   "id": "7e21d92f",
   "metadata": {
    "execution": {
     "iopub.execute_input": "2024-09-21T15:48:59.385793Z",
     "iopub.status.busy": "2024-09-21T15:48:59.385242Z",
     "iopub.status.idle": "2024-09-21T15:48:59.867991Z",
     "shell.execute_reply": "2024-09-21T15:48:59.867227Z"
    },
    "papermill": {
     "duration": 0.493011,
     "end_time": "2024-09-21T15:48:59.870190",
     "exception": false,
     "start_time": "2024-09-21T15:48:59.377179",
     "status": "completed"
    },
    "tags": []
   },
   "outputs": [],
   "source": [
    "df.to_csv('augment_malay.csv', index=False)"
   ]
  },
  {
   "cell_type": "code",
   "execution_count": null,
   "id": "d8ebd1a1",
   "metadata": {
    "papermill": {
     "duration": 0.006918,
     "end_time": "2024-09-21T15:48:59.884351",
     "exception": false,
     "start_time": "2024-09-21T15:48:59.877433",
     "status": "completed"
    },
    "tags": []
   },
   "outputs": [],
   "source": []
  },
  {
   "cell_type": "code",
   "execution_count": null,
   "id": "92b32f88",
   "metadata": {
    "papermill": {
     "duration": 0.006691,
     "end_time": "2024-09-21T15:48:59.898042",
     "exception": false,
     "start_time": "2024-09-21T15:48:59.891351",
     "status": "completed"
    },
    "tags": []
   },
   "outputs": [],
   "source": []
  }
 ],
 "metadata": {
  "kaggle": {
   "accelerator": "nvidiaTeslaT4",
   "dataSources": [
    {
     "datasetId": 5743484,
     "sourceId": 9449452,
     "sourceType": "datasetVersion"
    }
   ],
   "dockerImageVersionId": 30762,
   "isGpuEnabled": true,
   "isInternetEnabled": true,
   "language": "python",
   "sourceType": "notebook"
  },
  "kernelspec": {
   "display_name": "Python 3",
   "language": "python",
   "name": "python3"
  },
  "language_info": {
   "codemirror_mode": {
    "name": "ipython",
    "version": 3
   },
   "file_extension": ".py",
   "mimetype": "text/x-python",
   "name": "python",
   "nbconvert_exporter": "python",
   "pygments_lexer": "ipython3",
   "version": "3.10.14"
  },
  "papermill": {
   "default_parameters": {},
   "duration": 8999.063055,
   "end_time": "2024-09-21T15:49:00.222833",
   "environment_variables": {},
   "exception": null,
   "input_path": "__notebook__.ipynb",
   "output_path": "__notebook__.ipynb",
   "parameters": {},
   "start_time": "2024-09-21T13:19:01.159778",
   "version": "2.6.0"
  }
 },
 "nbformat": 4,
 "nbformat_minor": 5
}
